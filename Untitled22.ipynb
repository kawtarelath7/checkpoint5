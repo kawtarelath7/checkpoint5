{
 "cells": [
  {
   "cell_type": "code",
   "execution_count": 1,
   "id": "d8a172f9",
   "metadata": {},
   "outputs": [],
   "source": [
    "class point3D:\n",
    "    def __init__(self,x,y,z):\n",
    "        self.x=x\n",
    "        self.y=y\n",
    "        self.z=z\n",
    "    def __str__(self):\n",
    "        return str((self.x,self.y,self.z))\n",
    "        \n",
    "my_point=point3D(1,2,3)"
   ]
  },
  {
   "cell_type": "code",
   "execution_count": 2,
   "id": "397410dd",
   "metadata": {},
   "outputs": [
    {
     "name": "stdout",
     "output_type": "stream",
     "text": [
      "(1, 2, 3)\n"
     ]
    }
   ],
   "source": [
    "print(my_point)"
   ]
  },
  {
   "cell_type": "code",
   "execution_count": 3,
   "id": "d6064322",
   "metadata": {},
   "outputs": [],
   "source": [
    "class rectangle:\n",
    "    def __init__(self,length,width):\n",
    "        self.length=length\n",
    "        self.width=width\n",
    "    def __str__(self):\n",
    "        return str((self.length,self.width))\n",
    "    def area(self):\n",
    "        return self.length*self.width\n",
    "    def perimeter(self):\n",
    "        return (self.length+self.width)*2\n",
    "myrectangle =rectangle(3,4)"
   ]
  },
  {
   "cell_type": "code",
   "execution_count": 4,
   "id": "8c6a24b3",
   "metadata": {},
   "outputs": [
    {
     "name": "stdout",
     "output_type": "stream",
     "text": [
      "12\n"
     ]
    },
    {
     "data": {
      "text/plain": [
       "14"
      ]
     },
     "execution_count": 4,
     "metadata": {},
     "output_type": "execute_result"
    }
   ],
   "source": [
    "print(myrectangle.area())\n",
    "myrectangle.perimeter() "
   ]
  },
  {
   "cell_type": "code",
   "execution_count": 5,
   "id": "9f75af57",
   "metadata": {},
   "outputs": [],
   "source": [
    "class cercle:\n",
    "    \n",
    "    def __init__(self,r,x=0,y=0):\n",
    "        self.o=(x,y)\n",
    "        self.r=r\n",
    "    def __str__(self):\n",
    "        return str(self.o,self.r)\n",
    "    def area (self):\n",
    "        return (3,14*self.r**2)\n",
    "    def perimeter(self):\n",
    "        return (self.r*2)*3,14\n",
    "    def inside (self,x,y):\n",
    "        if y > self.r:\n",
    "            print(\" doesn't belongs\")\n",
    "        else:\n",
    "            print(\"belongs\")\n",
    "mycercle =cercle(4)"
   ]
  },
  {
   "cell_type": "code",
   "execution_count": 6,
   "id": "e3056dc3",
   "metadata": {},
   "outputs": [
    {
     "name": "stdout",
     "output_type": "stream",
     "text": [
      "belongs\n"
     ]
    }
   ],
   "source": [
    "mycercle.inside(0,1)"
   ]
  },
  {
   "cell_type": "code",
   "execution_count": null,
   "id": "ac1fcda8",
   "metadata": {},
   "outputs": [],
   "source": [
    "class bank:\n",
    "    def __init__(self,balance):\n",
    "        self.balance=balance\n",
    "    def __str__(self):\n",
    "        return str((self.balance))\n",
    "    def deposit(self,p):\n",
    "        self.balance=self.balance+p\n",
    "    def wihdraw(self,m):\n",
    "        self.balance=self.balance-m\n",
    "mybank=bank(21)"
   ]
  }
 ],
 "metadata": {
  "kernelspec": {
   "display_name": "Python 3 (ipykernel)",
   "language": "python",
   "name": "python3"
  },
  "language_info": {
   "codemirror_mode": {
    "name": "ipython",
    "version": 3
   },
   "file_extension": ".py",
   "mimetype": "text/x-python",
   "name": "python",
   "nbconvert_exporter": "python",
   "pygments_lexer": "ipython3",
   "version": "3.9.12"
  }
 },
 "nbformat": 4,
 "nbformat_minor": 5
}
